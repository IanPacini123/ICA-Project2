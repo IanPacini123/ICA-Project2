{
 "cells": [
  {
   "cell_type": "code",
   "execution_count": 7,
   "metadata": {},
   "outputs": [
    {
     "name": "stdout",
     "output_type": "stream",
     "text": [
      "Requirement already satisfied: Pillow in c:\\users\\ianpa\\anaconda3\\lib\\site-packages (9.4.0)\n",
      "Note: you may need to restart the kernel to use updated packages.\n"
     ]
    }
   ],
   "source": [
    "pip install Pillow"
   ]
  },
  {
   "cell_type": "code",
   "execution_count": null,
   "metadata": {},
   "outputs": [
    {
     "ename": "ModuleNotFoundError",
     "evalue": "No module named 'tensorflow'",
     "output_type": "error",
     "traceback": [
      "\u001b[1;31m---------------------------------------------------------------------------\u001b[0m",
      "\u001b[1;31mModuleNotFoundError\u001b[0m                       Traceback (most recent call last)",
      "\u001b[1;32mc:\\Users\\Ianpa\\Desktop\\VSCode\\ICA-Project2\\emotion_detection\\emotion_detection.ipynb Cell 1\u001b[0m line \u001b[0;36m1\n\u001b[1;32m----> <a href='vscode-notebook-cell:/c%3A/Users/Ianpa/Desktop/VSCode/ICA-Project2/emotion_detection/emotion_detection.ipynb#W0sZmlsZQ%3D%3D?line=0'>1</a>\u001b[0m \u001b[39mfrom\u001b[39;00m \u001b[39mtensorflow\u001b[39;00m\u001b[39m.\u001b[39;00m\u001b[39mkeras\u001b[39;00m\u001b[39m.\u001b[39;00m\u001b[39mpreprocessing\u001b[39;00m\u001b[39m.\u001b[39;00m\u001b[39mimage\u001b[39;00m \u001b[39mimport\u001b[39;00m ImageDataGenerator\n",
      "\u001b[1;31mModuleNotFoundError\u001b[0m: No module named 'tensorflow'"
     ]
    }
   ],
   "source": [
    "from tensorflow.keras.preprocessing.image import ImageDataGenerator"
   ]
  },
  {
   "cell_type": "code",
   "execution_count": 3,
   "metadata": {},
   "outputs": [],
   "source": [
    "train_dir = \"../emotion_detection/fer_2013/train\" # Directory containing the training data\n",
    "test_dir = \"../emotion_detection/fer_2013/test\"  # Directory containing the validation data\n"
   ]
  },
  {
   "cell_type": "code",
   "execution_count": 4,
   "metadata": {},
   "outputs": [],
   "source": [
    "train_datagen = ImageDataGenerator(\n",
    "    width_shift_range = 0.1,        # Randomly shift the width of images by up to 10%\n",
    "    height_shift_range = 0.1,       # Randomly shift the height of images by up to 10%\n",
    "    horizontal_flip = True,         # Flip images horizontally at random\n",
    "    rescale = 1./255,               # Rescale pixel values to be between 0 and 1\n",
    "    validation_split = 0.2          # Set aside 20% of the data for validation\n",
    ")\n",
    "\n",
    "validation_datagen = ImageDataGenerator(\n",
    "    rescale = 1./255,               # Rescale pixel values to be between 0 and 1\n",
    "    validation_split = 0.2          # Set aside 20% of the data for validation\n",
    ")"
   ]
  },
  {
   "cell_type": "code",
   "execution_count": 5,
   "metadata": {},
   "outputs": [
    {
     "name": "stdout",
     "output_type": "stream",
     "text": [
      "Found 22968 images belonging to 7 classes.\n",
      "Found 1432 images belonging to 7 classes.\n"
     ]
    }
   ],
   "source": [
    "train_generator = train_datagen.flow_from_directory(\n",
    "    directory = train_dir,           # Directory containing the training data\n",
    "    target_size = (48, 48),          # Resizes all images to 48x48 pixels\n",
    "    batch_size = 64,                 # Number of images per batch\n",
    "    color_mode = \"grayscale\",        # Converts the images to grayscale\n",
    "    class_mode = \"categorical\",      # Classifies the images into 7 categories\n",
    "    subset = \"training\"              # Uses the training subset of the data\n",
    ")\n",
    "\n",
    "validation_generator = validation_datagen.flow_from_directory(\n",
    "    directory = test_dir,            # Directory containing the validation data\n",
    "    target_size = (48, 48),          # Resizes all images to 48x48 pixels\n",
    "    batch_size = 64,                 # Number of images per batch\n",
    "    color_mode = \"grayscale\",        # Converts the images to grayscale\n",
    "    class_mode = \"categorical\",      # Classifies the images into 7 categories\n",
    "    subset = \"validation\"            # Uses the validation subset of the data\n",
    ")"
   ]
  },
  {
   "cell_type": "code",
   "execution_count": 6,
   "metadata": {},
   "outputs": [],
   "source": [
    "from tensorflow.keras.layers import Dense, Dropout, Flatten\n",
    "from tensorflow.keras.layers import Conv2D, MaxPooling2D, BatchNormalization\n",
    "from tensorflow.keras.models import Sequential\n",
    "import tensorflow as tf \n",
    "\n",
    "# Define the model architecture\n",
    "model = Sequential()\n",
    "\n",
    "# Add a convolutional layer with 32 filters, 3x3 kernel size, and relu activation function\n",
    "model.add(Conv2D(32, kernel_size=(3, 3), activation='relu', input_shape=(48,48,1)))\n",
    "# Add a batch normalization layer\n",
    "model.add(BatchNormalization())\n",
    "# Add a second convolutional layer with 64 filters, 3x3 kernel size, and relu activation function\n",
    "model.add(Conv2D(64, kernel_size=(3, 3), activation='relu'))\n",
    "# Add a second batch normalization layer\n",
    "model.add(BatchNormalization())\n",
    "# Add a max pooling layer with 2x2 pool size\n",
    "model.add(MaxPooling2D(pool_size=(2, 2)))\n",
    "# Add a dropout layer with 0.25 dropout rate\n",
    "model.add(Dropout(0.25))\n",
    "\n",
    "# Add a third convolutional layer with 128 filters, 3x3 kernel size, and relu activation function\n",
    "model.add(Conv2D(128, kernel_size=(3, 3), activation='relu'))\n",
    "# Add a third batch normalization layer\n",
    "model.add(BatchNormalization())\n",
    "# Add a fourth convolutional layer with 128 filters, 3x3 kernel size, and relu activation function\n",
    "model.add(Conv2D(128, kernel_size=(3, 3), activation='relu'))\n",
    "# Add a fourth batch normalization layer\n",
    "model.add(BatchNormalization())\n",
    "# Add a max pooling layer with 2x2 pool size\n",
    "model.add(MaxPooling2D(pool_size=(2, 2)))\n",
    "# Add a dropout layer with 0.25 dropout rate\n",
    "model.add(Dropout(0.25))\n",
    "\n",
    "# Add a fifth convolutional layer with 256 filters, 3x3 kernel size, and relu activation function\n",
    "model.add(Conv2D(256, kernel_size=(3, 3), activation='relu'))\n",
    "# Add a fifth batch normalization layer\n",
    "model.add(BatchNormalization())\n",
    "# Add a sixth convolutional layer with 256 filters, 3x3 kernel size, and relu activation function\n",
    "model.add(Conv2D(256, kernel_size=(3, 3), activation='relu'))\n",
    "# Add a sixth batch normalization layer\n",
    "model.add(BatchNormalization())\n",
    "# Add a max pooling layer with 2x2 pool size\n",
    "model.add(MaxPooling2D(pool_size=(2, 2)))\n",
    "# Add a dropout layer with 0.25 dropout rate\n",
    "model.add(Dropout(0.25))\n",
    "\n",
    "# Flatten the output of the convolutional layers\n",
    "model.add(Flatten())\n",
    "# Add a dense layer with 256 neurons and relu activation function\n",
    "model.add(Dense(256, activation='relu'))\n",
    "# Add a seventh batch normalization layer\n",
    "model.add(BatchNormalization())\n",
    "# Add a dropout layer with 0.5 dropout rate\n",
    "model.add(Dropout(0.5))\n",
    "# Add a dense layer with 7 neurons (one for each class) and softmax activation function\n",
    "model.add(Dense(7, activation='softmax'))\n",
    "\n",
    "# Compile the model with categorical cross-entropy loss, adam optimizer, and accuracy metric\n",
    "model.compile(loss=\"categorical_crossentropy\", optimizer= tf.keras.optimizers.legacy.Adam(learning_rate=0.0001), metrics=['accuracy'])"
   ]
  },
  {
   "cell_type": "code",
   "execution_count": 10,
   "metadata": {},
   "outputs": [
    {
     "ename": "NameError",
     "evalue": "name 'scipy' is not defined",
     "output_type": "error",
     "traceback": [
      "\u001b[0;31m---------------------------------------------------------------------------\u001b[0m",
      "\u001b[0;31mNameError\u001b[0m                                 Traceback (most recent call last)",
      "Cell \u001b[0;32mIn[10], line 17\u001b[0m\n\u001b[1;32m      7\u001b[0m checkpoint_callback \u001b[39m=\u001b[39m ModelCheckpoint(\n\u001b[1;32m      8\u001b[0m     filepath\u001b[39m=\u001b[39m\u001b[39m'\u001b[39m\u001b[39mmodel_weights.h5\u001b[39m\u001b[39m'\u001b[39m,\n\u001b[1;32m      9\u001b[0m     monitor\u001b[39m=\u001b[39m\u001b[39m'\u001b[39m\u001b[39mval_accuracy\u001b[39m\u001b[39m'\u001b[39m,\n\u001b[0;32m   (...)\u001b[0m\n\u001b[1;32m     13\u001b[0m     verbose\u001b[39m=\u001b[39m\u001b[39m1\u001b[39m\n\u001b[1;32m     14\u001b[0m )\n\u001b[1;32m     16\u001b[0m \u001b[39m# Train the model with the callback\u001b[39;00m\n\u001b[0;32m---> 17\u001b[0m history \u001b[39m=\u001b[39m model\u001b[39m.\u001b[39;49mfit(\n\u001b[1;32m     18\u001b[0m     train_generator,\n\u001b[1;32m     19\u001b[0m     steps_per_epoch\u001b[39m=\u001b[39;49m\u001b[39mlen\u001b[39;49m(train_generator),\n\u001b[1;32m     20\u001b[0m     epochs\u001b[39m=\u001b[39;49m\u001b[39m50\u001b[39;49m,\n\u001b[1;32m     21\u001b[0m     validation_data\u001b[39m=\u001b[39;49mvalidation_generator,\n\u001b[1;32m     22\u001b[0m     validation_steps\u001b[39m=\u001b[39;49m\u001b[39mlen\u001b[39;49m(validation_generator),\n\u001b[1;32m     23\u001b[0m     callbacks\u001b[39m=\u001b[39;49m[checkpoint_callback]\n\u001b[1;32m     24\u001b[0m )\n",
      "File \u001b[0;32m~/Library/Python/3.9/lib/python/site-packages/keras/src/utils/traceback_utils.py:70\u001b[0m, in \u001b[0;36mfilter_traceback.<locals>.error_handler\u001b[0;34m(*args, **kwargs)\u001b[0m\n\u001b[1;32m     67\u001b[0m     filtered_tb \u001b[39m=\u001b[39m _process_traceback_frames(e\u001b[39m.\u001b[39m__traceback__)\n\u001b[1;32m     68\u001b[0m     \u001b[39m# To get the full stack trace, call:\u001b[39;00m\n\u001b[1;32m     69\u001b[0m     \u001b[39m# `tf.debugging.disable_traceback_filtering()`\u001b[39;00m\n\u001b[0;32m---> 70\u001b[0m     \u001b[39mraise\u001b[39;00m e\u001b[39m.\u001b[39mwith_traceback(filtered_tb) \u001b[39mfrom\u001b[39;00m \u001b[39mNone\u001b[39;00m\n\u001b[1;32m     71\u001b[0m \u001b[39mfinally\u001b[39;00m:\n\u001b[1;32m     72\u001b[0m     \u001b[39mdel\u001b[39;00m filtered_tb\n",
      "File \u001b[0;32m~/Library/Python/3.9/lib/python/site-packages/keras/src/preprocessing/image.py:2526\u001b[0m, in \u001b[0;36mapply_affine_transform\u001b[0;34m(x, theta, tx, ty, shear, zx, zy, row_axis, col_axis, channel_axis, fill_mode, cval, order)\u001b[0m\n\u001b[1;32m   2482\u001b[0m \u001b[39m@keras_export\u001b[39m(\u001b[39m\"\u001b[39m\u001b[39mkeras.preprocessing.image.apply_affine_transform\u001b[39m\u001b[39m\"\u001b[39m)\n\u001b[1;32m   2483\u001b[0m \u001b[39mdef\u001b[39;00m \u001b[39mapply_affine_transform\u001b[39m(\n\u001b[1;32m   2484\u001b[0m     x,\n\u001b[0;32m   (...)\u001b[0m\n\u001b[1;32m   2496\u001b[0m     order\u001b[39m=\u001b[39m\u001b[39m1\u001b[39m,\n\u001b[1;32m   2497\u001b[0m ):\n\u001b[1;32m   2498\u001b[0m \u001b[39m    \u001b[39m\u001b[39m\"\"\"Applies an affine transformation specified by the parameters given.\u001b[39;00m\n\u001b[1;32m   2499\u001b[0m \n\u001b[1;32m   2500\u001b[0m \u001b[39m    Args:\u001b[39;00m\n\u001b[0;32m   (...)\u001b[0m\n\u001b[1;32m   2524\u001b[0m \u001b[39m        ImportError: if SciPy is not available.\u001b[39;00m\n\u001b[1;32m   2525\u001b[0m \u001b[39m    \"\"\"\u001b[39;00m\n\u001b[0;32m-> 2526\u001b[0m     \u001b[39mif\u001b[39;00m scipy \u001b[39mis\u001b[39;00m \u001b[39mNone\u001b[39;00m:\n\u001b[1;32m   2527\u001b[0m         \u001b[39mraise\u001b[39;00m \u001b[39mImportError\u001b[39;00m(\u001b[39m\"\u001b[39m\u001b[39mImage transformations require SciPy. Install SciPy.\u001b[39m\u001b[39m\"\u001b[39m)\n\u001b[1;32m   2529\u001b[0m     \u001b[39m# Input sanity checks:\u001b[39;00m\n\u001b[1;32m   2530\u001b[0m     \u001b[39m# 1. x must 2D image with one or more channels (i.e., a 3D tensor)\u001b[39;00m\n\u001b[1;32m   2531\u001b[0m     \u001b[39m# 2. channels must be either first or last dimension\u001b[39;00m\n",
      "\u001b[0;31mNameError\u001b[0m: name 'scipy' is not defined"
     ]
    }
   ],
   "source": [
    "from PIL import Image\n",
    "from keras.preprocessing.image import load_img\n",
    "from tensorflow.keras.callbacks import ModelCheckpoint\n",
    "import scipy\n",
    "\n",
    "# Define the callback\n",
    "checkpoint_callback = ModelCheckpoint(\n",
    "    filepath='model_weights.h5',\n",
    "    monitor='val_accuracy',\n",
    "    save_best_only=True,\n",
    "    save_weights_only=True,\n",
    "    mode='max',\n",
    "    verbose=1\n",
    ")\n",
    "\n",
    "# Train the model with the callback\n",
    "history = model.fit(\n",
    "    train_generator,\n",
    "    steps_per_epoch=len(train_generator),\n",
    "    epochs=50,\n",
    "    validation_data=validation_generator,\n",
    "    validation_steps=len(validation_generator),\n",
    "    callbacks=[checkpoint_callback]\n",
    ")"
   ]
  },
  {
   "cell_type": "code",
   "execution_count": 12,
   "metadata": {},
   "outputs": [
    {
     "name": "stdout",
     "output_type": "stream",
     "text": [
      "testing\n"
     ]
    }
   ],
   "source": [
    "print(\"testing\")\n",
    "\n",
    "with open(\"../emotion_detection/fer_2013/testing\", \"w\") as File:\n",
    "    File.write(\"Test\")\n"
   ]
  }
 ],
 "metadata": {
  "kernelspec": {
   "display_name": "Python 3",
   "language": "python",
   "name": "python3"
  },
  "language_info": {
   "codemirror_mode": {
    "name": "ipython",
    "version": 3
   },
   "file_extension": ".py",
   "mimetype": "text/x-python",
   "name": "python",
   "nbconvert_exporter": "python",
   "pygments_lexer": "ipython3",
   "version": "3.11.4"
  },
  "orig_nbformat": 4
 },
 "nbformat": 4,
 "nbformat_minor": 2
}
